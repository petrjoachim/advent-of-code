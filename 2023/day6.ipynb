{
 "cells": [
  {
   "cell_type": "code",
   "execution_count": 3,
   "metadata": {},
   "outputs": [],
   "source": [
    "test_input = \"\"\"Time:      7  15   30\n",
    "Distance:  9  40  200\"\"\""
   ]
  },
  {
   "cell_type": "code",
   "execution_count": 4,
   "metadata": {},
   "outputs": [],
   "source": [
    "my_input = \"\"\"Time:        51     92     68     90\n",
    "Distance:   222   2031   1126   1225\"\"\""
   ]
  },
  {
   "cell_type": "code",
   "execution_count": 17,
   "metadata": {},
   "outputs": [
    {
     "data": {
      "text/plain": [
       "500346"
      ]
     },
     "execution_count": 17,
     "metadata": {},
     "output_type": "execute_result"
    }
   ],
   "source": [
    "# Star 1\n",
    "from math import prod\n",
    "\n",
    "\n",
    "def winning_times(time: int, distance: int):\n",
    "    for hold_down in range(time):\n",
    "        if (time - hold_down) * hold_down > distance:\n",
    "            yield hold_down\n",
    "\n",
    "\n",
    "def star1(input: str) -> int:\n",
    "    lines = input.split(\"\\n\")\n",
    "    times = map(int, lines[0].split()[1:])\n",
    "    distances = map(int, lines[1].split()[1:])\n",
    "\n",
    "    races = zip(times, distances)\n",
    "    return prod(map(lambda x: len(list(x)), list(map(lambda r: winning_times(*r), races))))\n",
    "\n",
    "\n",
    "assert (star1(test_input) == 288)\n",
    "star1(my_input)  # => 500346"
   ]
  },
  {
   "cell_type": "code",
   "execution_count": 22,
   "metadata": {},
   "outputs": [
    {
     "name": "stdout",
     "output_type": "stream",
     "text": [
      "71530 940200\n",
      "51926890 222203111261225\n"
     ]
    },
    {
     "data": {
      "text/plain": [
       "42515755"
      ]
     },
     "execution_count": 22,
     "metadata": {},
     "output_type": "execute_result"
    }
   ],
   "source": [
    "# Star 2\n",
    "\n",
    "# -> this solution is not very efficient, but it works\n",
    "\n",
    "def star2(input: str) -> int:\n",
    "    lines = input.split(\"\\n\")\n",
    "    time = int(lines[0].split(\":\")[1].replace(\" \", \"\"))\n",
    "    distance = int(lines[1].split(\":\")[1].replace(\" \", \"\"))\n",
    "\n",
    "    print(time, distance)\n",
    "    return len(list(winning_times(time, distance)))\n",
    "\n",
    "\n",
    "assert (star2(test_input) == 71503)\n",
    "star2(my_input)  # => 42515755"
   ]
  }
 ],
 "metadata": {
  "kernelspec": {
   "display_name": "Python 3",
   "language": "python",
   "name": "python3"
  },
  "language_info": {
   "codemirror_mode": {
    "name": "ipython",
    "version": 3
   },
   "file_extension": ".py",
   "mimetype": "text/x-python",
   "name": "python",
   "nbconvert_exporter": "python",
   "pygments_lexer": "ipython3",
   "version": "3.11.5"
  }
 },
 "nbformat": 4,
 "nbformat_minor": 5
}
